{
  "nbformat": 4,
  "nbformat_minor": 0,
  "metadata": {
    "colab": {
      "name": "Untitled1.ipynb",
      "provenance": [],
      "authorship_tag": "ABX9TyPiRTAgahapSCkvce3iNRAT",
      "include_colab_link": true
    },
    "kernelspec": {
      "name": "python3",
      "display_name": "Python 3"
    }
  },
  "cells": [
    {
      "cell_type": "markdown",
      "metadata": {
        "id": "view-in-github",
        "colab_type": "text"
      },
      "source": [
        "<a href=\"https://colab.research.google.com/github/MattG1212/Picture/blob/master/Untitled1.ipynb\" target=\"_parent\"><img src=\"https://colab.research.google.com/assets/colab-badge.svg\" alt=\"Open In Colab\"/></a>"
      ]
    },
    {
      "cell_type": "markdown",
      "metadata": {
        "id": "1VCFjfCWcW15",
        "colab_type": "text"
      },
      "source": [
        "## Do you like using Jupyter Notebooks?"
      ]
    },
    {
      "cell_type": "markdown",
      "metadata": {
        "id": "oKUgoV1KcvfN",
        "colab_type": "text"
      },
      "source": [
        "Yes! I love using it. I love all the capabilities it allows one to have."
      ]
    },
    {
      "cell_type": "markdown",
      "metadata": {
        "id": "31Yakf6kc0WD",
        "colab_type": "text"
      },
      "source": [
        "## What do you want to learn more about in Jupyter Notebooks?"
      ]
    },
    {
      "cell_type": "markdown",
      "metadata": {
        "id": "VF9viHyFc8OH",
        "colab_type": "text"
      },
      "source": [
        "I want to learn how to use all the tools more effeciently. Once I do i can become more comfortable using the platform."
      ]
    },
    {
      "cell_type": "markdown",
      "metadata": {
        "id": "z_JpE-jfdjed",
        "colab_type": "text"
      },
      "source": [
        "![Go Birds](https://raw.githubusercontent.com/MattG1212/Picture/picture-download/Go%20Birds.png)"
      ]
    }
  ]
}